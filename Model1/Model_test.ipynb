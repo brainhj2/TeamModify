{
 "cells": [
  {
   "cell_type": "code",
   "execution_count": 1,
   "metadata": {},
   "outputs": [],
   "source": [
    "%run Model.ipynb"
   ]
  },
  {
   "cell_type": "code",
   "execution_count": 2,
   "metadata": {},
   "outputs": [],
   "source": [
    "import os\n",
    "import joblib\n",
    "\n",
    "# 모델 로드\n",
    "current_directory = os.getcwd() # 현재 경로 지정\n",
    "model_path = os.path.join(current_directory, 'abalone_exec.pkl')\n",
    "model = joblib.load(model_path)"
   ]
  },
  {
   "cell_type": "code",
   "execution_count": 3,
   "metadata": {},
   "outputs": [
    {
     "name": "stdout",
     "output_type": "stream",
     "text": [
      "Epoch 1: loss=32.881, accuracy=0.542/0.802\n",
      "Epoch 2: loss=6.977, accuracy=0.825/0.823\n",
      "Epoch 3: loss=6.161, accuracy=0.822/0.819\n",
      "Epoch 4: loss=6.032, accuracy=0.821/0.818\n",
      "Epoch 5: loss=5.944, accuracy=0.819/0.819\n",
      "Epoch 6: loss=5.872, accuracy=0.820/0.818\n",
      "Epoch 7: loss=5.810, accuracy=0.820/0.819\n",
      "Epoch 8: loss=5.759, accuracy=0.820/0.819\n",
      "Epoch 9: loss=5.713, accuracy=0.819/0.820\n",
      "Epoch 10: loss=5.673, accuracy=0.820/0.819\n",
      "\n",
      "모델의 정확도는 0.819입니다\n"
     ]
    }
   ],
   "source": [
    "abalone_exec()"
   ]
  },
  {
   "cell_type": "code",
   "execution_count": 4,
   "metadata": {},
   "outputs": [
    {
     "name": "stdout",
     "output_type": "stream",
     "text": [
      "[[1.11071586]\n",
      " [1.47838106]\n",
      " [1.57537902]\n",
      " [2.0047511 ]\n",
      " [1.58699281]\n",
      " [0.56764415]\n",
      " [2.25491682]\n",
      " [0.59622568]\n",
      " [0.47887702]\n",
      " [0.90396347]]\n",
      "bias:  [4.16302268]\n"
     ]
    }
   ],
   "source": [
    "print(weight)\n",
    "print('bias: ', bias)"
   ]
  },
  {
   "cell_type": "code",
   "execution_count": 5,
   "metadata": {},
   "outputs": [
    {
     "name": "stdout",
     "output_type": "stream",
     "text": [
      "Epoch 20: loss=4.742, accuracy=0.832/0.828\n",
      "Epoch 40: loss=4.382, accuracy=0.839/0.841\n",
      "Epoch 60: loss=4.223, accuracy=0.843/0.842\n",
      "Epoch 80: loss=4.147, accuracy=0.845/0.837\n",
      "Epoch 100: loss=4.108, accuracy=0.847/0.844\n",
      "\n",
      "모델의 정확도는 0.844입니다\n"
     ]
    }
   ],
   "source": [
    "LEARNING_RATE = 0.1\n",
    "abalone_exec(epoch_count=100, mb_size=100, report=20)"
   ]
  },
  {
   "cell_type": "code",
   "execution_count": 6,
   "metadata": {},
   "outputs": [
    {
     "name": "stdout",
     "output_type": "stream",
     "text": [
      "Epoch 20: loss=4.585, accuracy=0.834/0.830\n",
      "Epoch 40: loss=4.238, accuracy=0.842/0.831\n",
      "Epoch 60: loss=4.057, accuracy=0.846/0.837\n",
      "Epoch 80: loss=3.992, accuracy=0.846/0.842\n",
      "Epoch 100: loss=3.956, accuracy=0.848/0.841\n",
      "Epoch 120: loss=3.957, accuracy=0.848/0.839\n",
      "Epoch 140: loss=3.920, accuracy=0.850/0.842\n",
      "Epoch 160: loss=3.922, accuracy=0.849/0.836\n",
      "Epoch 180: loss=3.920, accuracy=0.849/0.843\n",
      "Epoch 200: loss=3.929, accuracy=0.849/0.840\n",
      "Epoch 220: loss=3.896, accuracy=0.850/0.838\n",
      "Epoch 240: loss=3.892, accuracy=0.849/0.840\n",
      "Epoch 260: loss=3.903, accuracy=0.850/0.838\n",
      "Epoch 280: loss=3.897, accuracy=0.850/0.831\n",
      "Epoch 300: loss=3.886, accuracy=0.850/0.837\n",
      "Epoch 320: loss=3.876, accuracy=0.850/0.843\n",
      "Epoch 340: loss=3.886, accuracy=0.850/0.840\n",
      "Epoch 360: loss=3.879, accuracy=0.850/0.840\n",
      "Epoch 380: loss=3.872, accuracy=0.851/0.833\n",
      "Epoch 400: loss=3.890, accuracy=0.850/0.841\n",
      "Epoch 420: loss=3.889, accuracy=0.850/0.841\n",
      "Epoch 440: loss=3.869, accuracy=0.851/0.840\n",
      "Epoch 460: loss=3.865, accuracy=0.851/0.840\n",
      "Epoch 480: loss=3.875, accuracy=0.850/0.841\n",
      "Epoch 500: loss=3.873, accuracy=0.851/0.835\n",
      "Epoch 520: loss=3.868, accuracy=0.850/0.838\n",
      "Epoch 540: loss=3.864, accuracy=0.851/0.844\n",
      "Epoch 560: loss=3.869, accuracy=0.851/0.839\n",
      "Epoch 580: loss=3.882, accuracy=0.850/0.840\n",
      "Epoch 600: loss=3.858, accuracy=0.851/0.842\n",
      "Epoch 620: loss=3.853, accuracy=0.851/0.839\n",
      "Epoch 640: loss=3.854, accuracy=0.850/0.843\n",
      "Epoch 660: loss=3.848, accuracy=0.851/0.838\n",
      "Epoch 680: loss=3.860, accuracy=0.852/0.840\n",
      "Epoch 700: loss=3.859, accuracy=0.851/0.842\n",
      "Epoch 720: loss=3.854, accuracy=0.851/0.844\n",
      "Epoch 740: loss=3.853, accuracy=0.851/0.842\n",
      "Epoch 760: loss=3.866, accuracy=0.850/0.841\n",
      "Epoch 780: loss=3.871, accuracy=0.851/0.834\n",
      "Epoch 800: loss=3.851, accuracy=0.851/0.841\n",
      "Epoch 820: loss=3.846, accuracy=0.851/0.843\n",
      "Epoch 840: loss=3.850, accuracy=0.851/0.844\n",
      "Epoch 860: loss=3.860, accuracy=0.850/0.840\n",
      "Epoch 880: loss=3.856, accuracy=0.851/0.841\n",
      "Epoch 900: loss=3.839, accuracy=0.851/0.842\n",
      "Epoch 920: loss=3.851, accuracy=0.851/0.840\n",
      "Epoch 940: loss=3.847, accuracy=0.851/0.838\n",
      "Epoch 960: loss=3.843, accuracy=0.851/0.843\n",
      "Epoch 980: loss=3.849, accuracy=0.851/0.840\n",
      "Epoch 1000: loss=3.837, accuracy=0.851/0.845\n",
      "Epoch 1020: loss=3.831, accuracy=0.852/0.836\n",
      "Epoch 1040: loss=3.833, accuracy=0.851/0.838\n",
      "Epoch 1060: loss=3.848, accuracy=0.851/0.840\n",
      "Epoch 1080: loss=3.846, accuracy=0.851/0.839\n",
      "Epoch 1100: loss=3.836, accuracy=0.852/0.840\n",
      "Epoch 1120: loss=3.852, accuracy=0.851/0.838\n",
      "Epoch 1140: loss=3.836, accuracy=0.851/0.840\n",
      "Epoch 1160: loss=3.844, accuracy=0.851/0.843\n",
      "Epoch 1180: loss=3.834, accuracy=0.851/0.841\n",
      "Epoch 1200: loss=3.837, accuracy=0.851/0.831\n",
      "Epoch 1220: loss=3.853, accuracy=0.851/0.840\n",
      "Epoch 1240: loss=3.838, accuracy=0.852/0.839\n",
      "Epoch 1260: loss=3.849, accuracy=0.851/0.839\n",
      "Epoch 1280: loss=3.845, accuracy=0.851/0.843\n",
      "Epoch 1300: loss=3.844, accuracy=0.851/0.839\n",
      "Epoch 1320: loss=3.843, accuracy=0.851/0.843\n",
      "Epoch 1340: loss=3.843, accuracy=0.852/0.840\n",
      "Epoch 1360: loss=3.845, accuracy=0.851/0.835\n",
      "Epoch 1380: loss=3.838, accuracy=0.851/0.840\n",
      "Epoch 1400: loss=3.843, accuracy=0.851/0.837\n",
      "Epoch 1420: loss=3.842, accuracy=0.852/0.834\n",
      "Epoch 1440: loss=3.836, accuracy=0.851/0.842\n",
      "Epoch 1460: loss=3.848, accuracy=0.851/0.841\n",
      "Epoch 1480: loss=3.843, accuracy=0.851/0.840\n",
      "Epoch 1500: loss=3.836, accuracy=0.851/0.835\n",
      "Epoch 1520: loss=3.851, accuracy=0.851/0.842\n",
      "Epoch 1540: loss=3.853, accuracy=0.850/0.841\n",
      "Epoch 1560: loss=3.847, accuracy=0.851/0.837\n",
      "Epoch 1580: loss=3.840, accuracy=0.852/0.834\n",
      "Epoch 1600: loss=3.836, accuracy=0.851/0.843\n",
      "Epoch 1620: loss=3.839, accuracy=0.851/0.835\n",
      "Epoch 1640: loss=3.830, accuracy=0.852/0.836\n",
      "Epoch 1660: loss=3.836, accuracy=0.852/0.837\n",
      "Epoch 1680: loss=3.839, accuracy=0.851/0.838\n",
      "Epoch 1700: loss=3.839, accuracy=0.851/0.842\n",
      "Epoch 1720: loss=3.832, accuracy=0.851/0.843\n",
      "Epoch 1740: loss=3.834, accuracy=0.851/0.842\n",
      "Epoch 1760: loss=3.847, accuracy=0.851/0.837\n",
      "Epoch 1780: loss=3.853, accuracy=0.851/0.838\n",
      "Epoch 1800: loss=3.835, accuracy=0.851/0.836\n",
      "Epoch 1820: loss=3.838, accuracy=0.851/0.841\n",
      "Epoch 1840: loss=3.855, accuracy=0.850/0.842\n",
      "Epoch 1860: loss=3.837, accuracy=0.851/0.841\n",
      "Epoch 1880: loss=3.854, accuracy=0.851/0.838\n",
      "Epoch 1900: loss=3.836, accuracy=0.851/0.840\n",
      "Epoch 1920: loss=3.842, accuracy=0.852/0.838\n",
      "Epoch 1940: loss=3.846, accuracy=0.851/0.841\n",
      "Epoch 1960: loss=3.836, accuracy=0.851/0.843\n",
      "Epoch 1980: loss=3.831, accuracy=0.851/0.841\n",
      "Epoch 2000: loss=3.827, accuracy=0.851/0.841\n",
      "\n",
      "모델의 정확도는 0.841입니다\n"
     ]
    }
   ],
   "source": [
    "LEARNING_RATE = 0.1\n",
    "abalone_exec(epoch_count=2000, mb_size=100, report=20)"
   ]
  }
 ],
 "metadata": {
  "kernelspec": {
   "display_name": "Python 3",
   "language": "python",
   "name": "python3"
  },
  "language_info": {
   "codemirror_mode": {
    "name": "ipython",
    "version": 3
   },
   "file_extension": ".py",
   "mimetype": "text/x-python",
   "name": "python",
   "nbconvert_exporter": "python",
   "pygments_lexer": "ipython3",
   "version": "3.8.17"
  },
  "orig_nbformat": 4
 },
 "nbformat": 4,
 "nbformat_minor": 2
}
